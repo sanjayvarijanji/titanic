{
  "nbformat": 4,
  "nbformat_minor": 5,
  "metadata": {
    "kernelspec": {
      "display_name": "Python 3",
      "language": "python",
      "name": "python3"
    },
    "language_info": {
      "codemirror_mode": {
        "name": "ipython",
        "version": 3
      },
      "file_extension": ".py",
      "mimetype": "text/x-python",
      "name": "python",
      "nbconvert_exporter": "python",
      "pygments_lexer": "ipython3",
      "version": "3.7.10"
    },
    "papermill": {
      "default_parameters": {},
      "duration": 14.707636,
      "end_time": "2021-09-15T15:45:40.090657",
      "environment_variables": {},
      "exception": null,
      "input_path": "__notebook__.ipynb",
      "output_path": "__notebook__.ipynb",
      "parameters": {},
      "start_time": "2021-09-15T15:45:25.383021",
      "version": "2.3.3"
    },
    "colab": {
      "name": "titanic.ipynb",
      "provenance": [],
      "include_colab_link": true
    }
  },
  "cells": [
    {
      "cell_type": "markdown",
      "metadata": {
        "id": "view-in-github",
        "colab_type": "text"
      },
      "source": [
        "<a href=\"https://colab.research.google.com/github/sanjayvarijanji/titanic/blob/main/titanic.ipynb\" target=\"_parent\"><img src=\"https://colab.research.google.com/assets/colab-badge.svg\" alt=\"Open In Colab\"/></a>"
      ]
    },
    {
      "cell_type": "code",
      "metadata": {
        "_cell_guid": "b1076dfc-b9ad-4769-8c92-a6c4dae69d19",
        "_uuid": "8f2839f25d086af736a60e9eeb907d3b93b6e0e5",
        "execution": {
          "iopub.execute_input": "2021-09-15T15:45:35.412056Z",
          "iopub.status.busy": "2021-09-15T15:45:35.411390Z",
          "iopub.status.idle": "2021-09-15T15:45:35.418830Z",
          "shell.execute_reply": "2021-09-15T15:45:35.418005Z",
          "shell.execute_reply.started": "2021-09-15T15:36:46.141947Z"
        },
        "papermill": {
          "duration": 0.045509,
          "end_time": "2021-09-15T15:45:35.419044",
          "exception": false,
          "start_time": "2021-09-15T15:45:35.373535",
          "status": "completed"
        },
        "tags": [],
        "id": "6c38f846",
        "outputId": "3bc1cf70-85da-485d-c4c4-16c7bcf90c38"
      },
      "source": [
        "# This Python 3 environment comes with many helpful analytics libraries installed\n",
        "# It is defined by the kaggle/python Docker image: https://github.com/kaggle/docker-python\n",
        "# For example, here's several helpful packages to load\n",
        "\n",
        "import numpy as np # linear algebra\n",
        "import pandas as pd # data processing, CSV file I/O (e.g. pd.read_csv)\n",
        "\n",
        "# Input data files are available in the read-only \"../input/\" directory\n",
        "# For example, running this (by clicking run or pressing Shift+Enter) will list all files under the input directory\n",
        "\n",
        "import os\n",
        "for dirname, _, filenames in os.walk('/kaggle/input'):\n",
        "    for filename in filenames:\n",
        "        print(os.path.join(dirname, filename))\n",
        "\n",
        "# You can write up to 20GB to the current directory (/kaggle/working/) that gets preserved as output when you create a version using \"Save & Run All\" \n",
        "# You can also write temporary files to /kaggle/temp/, but they won't be saved outside of the current session"
      ],
      "id": "6c38f846",
      "execution_count": null,
      "outputs": [
        {
          "name": "stdout",
          "output_type": "stream",
          "text": [
            "/kaggle/input/titanic/train.csv\n",
            "/kaggle/input/titanic/test.csv\n",
            "/kaggle/input/titanic/gender_submission.csv\n"
          ]
        }
      ]
    },
    {
      "cell_type": "code",
      "metadata": {
        "execution": {
          "iopub.execute_input": "2021-09-15T15:45:35.472032Z",
          "iopub.status.busy": "2021-09-15T15:45:35.471185Z",
          "iopub.status.idle": "2021-09-15T15:45:36.594038Z",
          "shell.execute_reply": "2021-09-15T15:45:36.593086Z",
          "shell.execute_reply.started": "2021-09-15T15:37:15.338264Z"
        },
        "papermill": {
          "duration": 1.15049,
          "end_time": "2021-09-15T15:45:36.594352",
          "exception": false,
          "start_time": "2021-09-15T15:45:35.443862",
          "status": "completed"
        },
        "tags": [],
        "id": "a6f3ffca"
      },
      "source": [
        "import pandas as pd\n",
        "import numpy as np\n",
        "import seaborn as sns\n",
        "import matplotlib.pyplot as plt"
      ],
      "id": "a6f3ffca",
      "execution_count": null,
      "outputs": []
    },
    {
      "cell_type": "code",
      "metadata": {
        "execution": {
          "iopub.execute_input": "2021-09-15T15:45:36.644747Z",
          "iopub.status.busy": "2021-09-15T15:45:36.643839Z",
          "iopub.status.idle": "2021-09-15T15:45:36.665623Z",
          "shell.execute_reply": "2021-09-15T15:45:36.664969Z",
          "shell.execute_reply.started": "2021-09-15T15:37:32.972426Z"
        },
        "papermill": {
          "duration": 0.049845,
          "end_time": "2021-09-15T15:45:36.665774",
          "exception": false,
          "start_time": "2021-09-15T15:45:36.615929",
          "status": "completed"
        },
        "tags": [],
        "id": "a2477414"
      },
      "source": [
        "df=pd.read_csv(\"../input/titanic/train.csv\")"
      ],
      "id": "a2477414",
      "execution_count": null,
      "outputs": []
    },
    {
      "cell_type": "code",
      "metadata": {
        "execution": {
          "iopub.execute_input": "2021-09-15T15:45:36.719863Z",
          "iopub.status.busy": "2021-09-15T15:45:36.718749Z",
          "iopub.status.idle": "2021-09-15T15:45:36.742245Z",
          "shell.execute_reply": "2021-09-15T15:45:36.742929Z",
          "shell.execute_reply.started": "2021-09-15T15:37:46.923143Z"
        },
        "papermill": {
          "duration": 0.056453,
          "end_time": "2021-09-15T15:45:36.743133",
          "exception": false,
          "start_time": "2021-09-15T15:45:36.686680",
          "status": "completed"
        },
        "tags": [],
        "id": "1e1d7164",
        "outputId": "e44e93d1-5877-448f-dbb5-1bc4f545b16c"
      },
      "source": [
        "df.head()"
      ],
      "id": "1e1d7164",
      "execution_count": null,
      "outputs": [
        {
          "data": {
            "text/html": [
              "<div>\n",
              "<style scoped>\n",
              "    .dataframe tbody tr th:only-of-type {\n",
              "        vertical-align: middle;\n",
              "    }\n",
              "\n",
              "    .dataframe tbody tr th {\n",
              "        vertical-align: top;\n",
              "    }\n",
              "\n",
              "    .dataframe thead th {\n",
              "        text-align: right;\n",
              "    }\n",
              "</style>\n",
              "<table border=\"1\" class=\"dataframe\">\n",
              "  <thead>\n",
              "    <tr style=\"text-align: right;\">\n",
              "      <th></th>\n",
              "      <th>PassengerId</th>\n",
              "      <th>Survived</th>\n",
              "      <th>Pclass</th>\n",
              "      <th>Name</th>\n",
              "      <th>Sex</th>\n",
              "      <th>Age</th>\n",
              "      <th>SibSp</th>\n",
              "      <th>Parch</th>\n",
              "      <th>Ticket</th>\n",
              "      <th>Fare</th>\n",
              "      <th>Cabin</th>\n",
              "      <th>Embarked</th>\n",
              "    </tr>\n",
              "  </thead>\n",
              "  <tbody>\n",
              "    <tr>\n",
              "      <th>0</th>\n",
              "      <td>1</td>\n",
              "      <td>0</td>\n",
              "      <td>3</td>\n",
              "      <td>Braund, Mr. Owen Harris</td>\n",
              "      <td>male</td>\n",
              "      <td>22.0</td>\n",
              "      <td>1</td>\n",
              "      <td>0</td>\n",
              "      <td>A/5 21171</td>\n",
              "      <td>7.2500</td>\n",
              "      <td>NaN</td>\n",
              "      <td>S</td>\n",
              "    </tr>\n",
              "    <tr>\n",
              "      <th>1</th>\n",
              "      <td>2</td>\n",
              "      <td>1</td>\n",
              "      <td>1</td>\n",
              "      <td>Cumings, Mrs. John Bradley (Florence Briggs Th...</td>\n",
              "      <td>female</td>\n",
              "      <td>38.0</td>\n",
              "      <td>1</td>\n",
              "      <td>0</td>\n",
              "      <td>PC 17599</td>\n",
              "      <td>71.2833</td>\n",
              "      <td>C85</td>\n",
              "      <td>C</td>\n",
              "    </tr>\n",
              "    <tr>\n",
              "      <th>2</th>\n",
              "      <td>3</td>\n",
              "      <td>1</td>\n",
              "      <td>3</td>\n",
              "      <td>Heikkinen, Miss. Laina</td>\n",
              "      <td>female</td>\n",
              "      <td>26.0</td>\n",
              "      <td>0</td>\n",
              "      <td>0</td>\n",
              "      <td>STON/O2. 3101282</td>\n",
              "      <td>7.9250</td>\n",
              "      <td>NaN</td>\n",
              "      <td>S</td>\n",
              "    </tr>\n",
              "    <tr>\n",
              "      <th>3</th>\n",
              "      <td>4</td>\n",
              "      <td>1</td>\n",
              "      <td>1</td>\n",
              "      <td>Futrelle, Mrs. Jacques Heath (Lily May Peel)</td>\n",
              "      <td>female</td>\n",
              "      <td>35.0</td>\n",
              "      <td>1</td>\n",
              "      <td>0</td>\n",
              "      <td>113803</td>\n",
              "      <td>53.1000</td>\n",
              "      <td>C123</td>\n",
              "      <td>S</td>\n",
              "    </tr>\n",
              "    <tr>\n",
              "      <th>4</th>\n",
              "      <td>5</td>\n",
              "      <td>0</td>\n",
              "      <td>3</td>\n",
              "      <td>Allen, Mr. William Henry</td>\n",
              "      <td>male</td>\n",
              "      <td>35.0</td>\n",
              "      <td>0</td>\n",
              "      <td>0</td>\n",
              "      <td>373450</td>\n",
              "      <td>8.0500</td>\n",
              "      <td>NaN</td>\n",
              "      <td>S</td>\n",
              "    </tr>\n",
              "  </tbody>\n",
              "</table>\n",
              "</div>"
            ],
            "text/plain": [
              "   PassengerId  Survived  Pclass  \\\n",
              "0            1         0       3   \n",
              "1            2         1       1   \n",
              "2            3         1       3   \n",
              "3            4         1       1   \n",
              "4            5         0       3   \n",
              "\n",
              "                                                Name     Sex   Age  SibSp  \\\n",
              "0                            Braund, Mr. Owen Harris    male  22.0      1   \n",
              "1  Cumings, Mrs. John Bradley (Florence Briggs Th...  female  38.0      1   \n",
              "2                             Heikkinen, Miss. Laina  female  26.0      0   \n",
              "3       Futrelle, Mrs. Jacques Heath (Lily May Peel)  female  35.0      1   \n",
              "4                           Allen, Mr. William Henry    male  35.0      0   \n",
              "\n",
              "   Parch            Ticket     Fare Cabin Embarked  \n",
              "0      0         A/5 21171   7.2500   NaN        S  \n",
              "1      0          PC 17599  71.2833   C85        C  \n",
              "2      0  STON/O2. 3101282   7.9250   NaN        S  \n",
              "3      0            113803  53.1000  C123        S  \n",
              "4      0            373450   8.0500   NaN        S  "
            ]
          },
          "execution_count": 4,
          "metadata": {},
          "output_type": "execute_result"
        }
      ]
    },
    {
      "cell_type": "code",
      "metadata": {
        "execution": {
          "iopub.execute_input": "2021-09-15T15:45:36.795624Z",
          "iopub.status.busy": "2021-09-15T15:45:36.793282Z",
          "iopub.status.idle": "2021-09-15T15:45:36.799537Z",
          "shell.execute_reply": "2021-09-15T15:45:36.799000Z",
          "shell.execute_reply.started": "2021-09-15T15:38:05.795750Z"
        },
        "papermill": {
          "duration": 0.034221,
          "end_time": "2021-09-15T15:45:36.799700",
          "exception": false,
          "start_time": "2021-09-15T15:45:36.765479",
          "status": "completed"
        },
        "tags": [],
        "id": "6a776f99",
        "outputId": "dacc103b-f322-49e3-d8d9-9fcc34115372"
      },
      "source": [
        "df.shape"
      ],
      "id": "6a776f99",
      "execution_count": null,
      "outputs": [
        {
          "data": {
            "text/plain": [
              "(891, 12)"
            ]
          },
          "execution_count": 5,
          "metadata": {},
          "output_type": "execute_result"
        }
      ]
    },
    {
      "cell_type": "code",
      "metadata": {
        "execution": {
          "iopub.execute_input": "2021-09-15T15:45:36.847820Z",
          "iopub.status.busy": "2021-09-15T15:45:36.846968Z",
          "iopub.status.idle": "2021-09-15T15:45:36.859322Z",
          "shell.execute_reply": "2021-09-15T15:45:36.859926Z",
          "shell.execute_reply.started": "2021-09-15T15:38:20.037240Z"
        },
        "papermill": {
          "duration": 0.038514,
          "end_time": "2021-09-15T15:45:36.860157",
          "exception": false,
          "start_time": "2021-09-15T15:45:36.821643",
          "status": "completed"
        },
        "tags": [],
        "id": "2008f1fe"
      },
      "source": [
        "df.drop(labels=\"PassengerId\",axis=1,inplace=True)"
      ],
      "id": "2008f1fe",
      "execution_count": null,
      "outputs": []
    },
    {
      "cell_type": "code",
      "metadata": {
        "execution": {
          "iopub.execute_input": "2021-09-15T15:45:36.910435Z",
          "iopub.status.busy": "2021-09-15T15:45:36.909727Z",
          "iopub.status.idle": "2021-09-15T15:45:36.918414Z",
          "shell.execute_reply": "2021-09-15T15:45:36.919057Z",
          "shell.execute_reply.started": "2021-09-15T15:38:35.628731Z"
        },
        "papermill": {
          "duration": 0.037206,
          "end_time": "2021-09-15T15:45:36.919369",
          "exception": false,
          "start_time": "2021-09-15T15:45:36.882163",
          "status": "completed"
        },
        "tags": [],
        "id": "ae913622",
        "outputId": "3b288590-cb23-470a-92f5-23cc209253a8"
      },
      "source": [
        "df.dtypes"
      ],
      "id": "ae913622",
      "execution_count": null,
      "outputs": [
        {
          "data": {
            "text/plain": [
              "Survived      int64\n",
              "Pclass        int64\n",
              "Name         object\n",
              "Sex          object\n",
              "Age         float64\n",
              "SibSp         int64\n",
              "Parch         int64\n",
              "Ticket       object\n",
              "Fare        float64\n",
              "Cabin        object\n",
              "Embarked     object\n",
              "dtype: object"
            ]
          },
          "execution_count": 7,
          "metadata": {},
          "output_type": "execute_result"
        }
      ]
    },
    {
      "cell_type": "code",
      "metadata": {
        "execution": {
          "iopub.execute_input": "2021-09-15T15:45:36.987379Z",
          "iopub.status.busy": "2021-09-15T15:45:36.986591Z",
          "iopub.status.idle": "2021-09-15T15:45:36.990449Z",
          "shell.execute_reply": "2021-09-15T15:45:36.990918Z",
          "shell.execute_reply.started": "2021-09-15T15:38:52.998648Z"
        },
        "papermill": {
          "duration": 0.041261,
          "end_time": "2021-09-15T15:45:36.991106",
          "exception": false,
          "start_time": "2021-09-15T15:45:36.949845",
          "status": "completed"
        },
        "tags": [],
        "id": "8b2e124f",
        "outputId": "22cc7611-3498-48a0-c165-48873f20ad27"
      },
      "source": [
        "Ss=df.groupby(['Sex', 'Survived'] )['Survived'].count()\n",
        "Ss"
      ],
      "id": "8b2e124f",
      "execution_count": null,
      "outputs": [
        {
          "data": {
            "text/plain": [
              "Sex     Survived\n",
              "female  0            81\n",
              "        1           233\n",
              "male    0           468\n",
              "        1           109\n",
              "Name: Survived, dtype: int64"
            ]
          },
          "execution_count": 8,
          "metadata": {},
          "output_type": "execute_result"
        }
      ]
    },
    {
      "cell_type": "code",
      "metadata": {
        "execution": {
          "iopub.execute_input": "2021-09-15T15:45:37.044394Z",
          "iopub.status.busy": "2021-09-15T15:45:37.043719Z",
          "iopub.status.idle": "2021-09-15T15:45:37.326594Z",
          "shell.execute_reply": "2021-09-15T15:45:37.325888Z",
          "shell.execute_reply.started": "2021-09-15T15:39:09.678658Z"
        },
        "papermill": {
          "duration": 0.312127,
          "end_time": "2021-09-15T15:45:37.326750",
          "exception": false,
          "start_time": "2021-09-15T15:45:37.014623",
          "status": "completed"
        },
        "tags": [],
        "id": "dbb8beb4",
        "outputId": "f8d07dbf-fd67-4ee1-e232-16953443c7f5"
      },
      "source": [
        "Ss.plot.bar(xlabel='Survived: Survival (0 = no; 1 = yes)',ylabel='Total',title='Survived Count',\n",
        "            colormap='magma',figsize=(8,4))"
      ],
      "id": "dbb8beb4",
      "execution_count": null,
      "outputs": [
        {
          "data": {
            "text/plain": [
              "<AxesSubplot:title={'center':'Survived Count'}, xlabel='Survived: Survival (0 = no; 1 = yes)', ylabel='Total'>"
            ]
          },
          "execution_count": 9,
          "metadata": {},
          "output_type": "execute_result"
        },
        {
          "data": {
            "image/png": "[encoded data removed]",
            "text/plain": [
              "<Figure size 576x288 with 1 Axes>"
            ]
          },
          "metadata": {
            "needs_background": "light"
          },
          "output_type": "display_data"
        }
      ]
    },
    {
      "cell_type": "code",
      "metadata": {
        "execution": {
          "iopub.execute_input": "2021-09-15T15:45:37.407063Z",
          "iopub.status.busy": "2021-09-15T15:45:37.403292Z",
          "iopub.status.idle": "2021-09-15T15:45:37.520308Z",
          "shell.execute_reply": "2021-09-15T15:45:37.519586Z",
          "shell.execute_reply.started": "2021-09-15T15:39:26.087463Z"
        },
        "papermill": {
          "duration": 0.170382,
          "end_time": "2021-09-15T15:45:37.520477",
          "exception": false,
          "start_time": "2021-09-15T15:45:37.350095",
          "status": "completed"
        },
        "tags": [],
        "id": "308abe87",
        "outputId": "0ccd891d-1931-474f-a655-a71605461df3"
      },
      "source": [
        "Ss.plot.pie(figsize=(6,6))"
      ],
      "id": "308abe87",
      "execution_count": null,
      "outputs": [
        {
          "data": {
            "text/plain": [
              "<AxesSubplot:ylabel='Survived'>"
            ]
          },
          "execution_count": 10,
          "metadata": {},
          "output_type": "execute_result"
        },
        {
          "data": {
            "image/png": "[encoded data removed]",
            "text/plain": [
              "<Figure size 432x432 with 1 Axes>"
            ]
          },
          "metadata": {},
          "output_type": "display_data"
        }
      ]
    },
    {
      "cell_type": "code",
      "metadata": {
        "execution": {
          "iopub.execute_input": "2021-09-15T15:45:37.582583Z",
          "iopub.status.busy": "2021-09-15T15:45:37.579285Z",
          "iopub.status.idle": "2021-09-15T15:45:37.586781Z",
          "shell.execute_reply": "2021-09-15T15:45:37.587294Z",
          "shell.execute_reply.started": "2021-09-15T15:39:43.168346Z"
        },
        "papermill": {
          "duration": 0.04171,
          "end_time": "2021-09-15T15:45:37.587515",
          "exception": false,
          "start_time": "2021-09-15T15:45:37.545805",
          "status": "completed"
        },
        "tags": [],
        "id": "faf7d46d",
        "outputId": "726c573d-191d-490b-85bc-bea10a77b274"
      },
      "source": [
        "embarked=df.groupby(['Embarked','Survived'])['Survived'].count()\n",
        "embarked"
      ],
      "id": "faf7d46d",
      "execution_count": null,
      "outputs": [
        {
          "data": {
            "text/plain": [
              "Embarked  Survived\n",
              "C         0            75\n",
              "          1            93\n",
              "Q         0            47\n",
              "          1            30\n",
              "S         0           427\n",
              "          1           217\n",
              "Name: Survived, dtype: int64"
            ]
          },
          "execution_count": 11,
          "metadata": {},
          "output_type": "execute_result"
        }
      ]
    },
    {
      "cell_type": "code",
      "metadata": {
        "execution": {
          "iopub.execute_input": "2021-09-15T15:45:37.668884Z",
          "iopub.status.busy": "2021-09-15T15:45:37.668202Z",
          "iopub.status.idle": "2021-09-15T15:45:37.901360Z",
          "shell.execute_reply": "2021-09-15T15:45:37.901844Z",
          "shell.execute_reply.started": "2021-09-15T15:40:04.231991Z"
        },
        "papermill": {
          "duration": 0.288907,
          "end_time": "2021-09-15T15:45:37.902034",
          "exception": false,
          "start_time": "2021-09-15T15:45:37.613127",
          "status": "completed"
        },
        "tags": [],
        "id": "2fd5e00d",
        "outputId": "75eb871d-057f-4545-8e77-e7a09e7a3d2f"
      },
      "source": [
        "embarked.plot.bar(xlabel='Survived: Survival (0 = no; 1 = yes)',ylabel='Total',title='Survived Count',\n",
        "            colormap='magma',figsize=(8,4))"
      ],
      "id": "2fd5e00d",
      "execution_count": null,
      "outputs": [
        {
          "data": {
            "text/plain": [
              "<AxesSubplot:title={'center':'Survived Count'}, xlabel='Survived: Survival (0 = no; 1 = yes)', ylabel='Total'>"
            ]
          },
          "execution_count": 12,
          "metadata": {},
          "output_type": "execute_result"
        },
        {
          "data": {
            "image/png": "[encoded data removed]",
            "text/plain": [
              "<Figure size 576x288 with 1 Axes>"
            ]
          },
          "metadata": {
            "needs_background": "light"
          },
          "output_type": "display_data"
        }
      ]
    },
    {
      "cell_type": "code",
      "metadata": {
        "execution": {
          "iopub.execute_input": "2021-09-15T15:45:37.962784Z",
          "iopub.status.busy": "2021-09-15T15:45:37.961842Z",
          "iopub.status.idle": "2021-09-15T15:45:37.964557Z",
          "shell.execute_reply": "2021-09-15T15:45:37.965011Z",
          "shell.execute_reply.started": "2021-09-15T15:40:28.523987Z"
        },
        "papermill": {
          "duration": 0.036459,
          "end_time": "2021-09-15T15:45:37.965186",
          "exception": false,
          "start_time": "2021-09-15T15:45:37.928727",
          "status": "completed"
        },
        "tags": [],
        "id": "bad0faf7"
      },
      "source": [
        "data=[df]\n",
        "for dataset in data:\n",
        "    dataset['FamilySize'] = dataset['SibSp'] + dataset['Parch'] + 1"
      ],
      "id": "bad0faf7",
      "execution_count": null,
      "outputs": []
    },
    {
      "cell_type": "code",
      "metadata": {
        "execution": {
          "iopub.execute_input": "2021-09-15T15:45:38.023559Z",
          "iopub.status.busy": "2021-09-15T15:45:38.022751Z",
          "iopub.status.idle": "2021-09-15T15:45:38.028726Z",
          "shell.execute_reply": "2021-09-15T15:45:38.029235Z",
          "shell.execute_reply.started": "2021-09-15T15:40:42.604213Z"
        },
        "papermill": {
          "duration": 0.037687,
          "end_time": "2021-09-15T15:45:38.029433",
          "exception": false,
          "start_time": "2021-09-15T15:45:37.991746",
          "status": "completed"
        },
        "tags": [],
        "id": "d2a4e5fc"
      },
      "source": [
        "for dataset in data:\n",
        "    dataset['IsAlone'] = 0\n",
        "    dataset.loc[dataset['FamilySize'] == 1, 'IsAlone'] = 1"
      ],
      "id": "d2a4e5fc",
      "execution_count": null,
      "outputs": []
    },
    {
      "cell_type": "code",
      "metadata": {
        "execution": {
          "iopub.execute_input": "2021-09-15T15:45:38.090045Z",
          "iopub.status.busy": "2021-09-15T15:45:38.089361Z",
          "iopub.status.idle": "2021-09-15T15:45:38.132396Z",
          "shell.execute_reply": "2021-09-15T15:45:38.133037Z",
          "shell.execute_reply.started": "2021-09-15T15:40:56.759720Z"
        },
        "papermill": {
          "duration": 0.076514,
          "end_time": "2021-09-15T15:45:38.133212",
          "exception": false,
          "start_time": "2021-09-15T15:45:38.056698",
          "status": "completed"
        },
        "tags": [],
        "id": "f5feb3c0",
        "outputId": "6def8be3-3c6c-4db6-89ee-e72fdc3deccd"
      },
      "source": [
        "df.describe().T"
      ],
      "id": "f5feb3c0",
      "execution_count": null,
      "outputs": [
        {
          "data": {
            "text/html": [
              "<div>\n",
              "<style scoped>\n",
              "    .dataframe tbody tr th:only-of-type {\n",
              "        vertical-align: middle;\n",
              "    }\n",
              "\n",
              "    .dataframe tbody tr th {\n",
              "        vertical-align: top;\n",
              "    }\n",
              "\n",
              "    .dataframe thead th {\n",
              "        text-align: right;\n",
              "    }\n",
              "</style>\n",
              "<table border=\"1\" class=\"dataframe\">\n",
              "  <thead>\n",
              "    <tr style=\"text-align: right;\">\n",
              "      <th></th>\n",
              "      <th>count</th>\n",
              "      <th>mean</th>\n",
              "      <th>std</th>\n",
              "      <th>min</th>\n",
              "      <th>25%</th>\n",
              "      <th>50%</th>\n",
              "      <th>75%</th>\n",
              "      <th>max</th>\n",
              "    </tr>\n",
              "  </thead>\n",
              "  <tbody>\n",
              "    <tr>\n",
              "      <th>Survived</th>\n",
              "      <td>891.0</td>\n",
              "      <td>0.383838</td>\n",
              "      <td>0.486592</td>\n",
              "      <td>0.00</td>\n",
              "      <td>0.0000</td>\n",
              "      <td>0.0000</td>\n",
              "      <td>1.0</td>\n",
              "      <td>1.0000</td>\n",
              "    </tr>\n",
              "    <tr>\n",
              "      <th>Pclass</th>\n",
              "      <td>891.0</td>\n",
              "      <td>2.308642</td>\n",
              "      <td>0.836071</td>\n",
              "      <td>1.00</td>\n",
              "      <td>2.0000</td>\n",
              "      <td>3.0000</td>\n",
              "      <td>3.0</td>\n",
              "      <td>3.0000</td>\n",
              "    </tr>\n",
              "    <tr>\n",
              "      <th>Age</th>\n",
              "      <td>714.0</td>\n",
              "      <td>29.699118</td>\n",
              "      <td>14.526497</td>\n",
              "      <td>0.42</td>\n",
              "      <td>20.1250</td>\n",
              "      <td>28.0000</td>\n",
              "      <td>38.0</td>\n",
              "      <td>80.0000</td>\n",
              "    </tr>\n",
              "    <tr>\n",
              "      <th>SibSp</th>\n",
              "      <td>891.0</td>\n",
              "      <td>0.523008</td>\n",
              "      <td>1.102743</td>\n",
              "      <td>0.00</td>\n",
              "      <td>0.0000</td>\n",
              "      <td>0.0000</td>\n",
              "      <td>1.0</td>\n",
              "      <td>8.0000</td>\n",
              "    </tr>\n",
              "    <tr>\n",
              "      <th>Parch</th>\n",
              "      <td>891.0</td>\n",
              "      <td>0.381594</td>\n",
              "      <td>0.806057</td>\n",
              "      <td>0.00</td>\n",
              "      <td>0.0000</td>\n",
              "      <td>0.0000</td>\n",
              "      <td>0.0</td>\n",
              "      <td>6.0000</td>\n",
              "    </tr>\n",
              "    <tr>\n",
              "      <th>Fare</th>\n",
              "      <td>891.0</td>\n",
              "      <td>32.204208</td>\n",
              "      <td>49.693429</td>\n",
              "      <td>0.00</td>\n",
              "      <td>7.9104</td>\n",
              "      <td>14.4542</td>\n",
              "      <td>31.0</td>\n",
              "      <td>512.3292</td>\n",
              "    </tr>\n",
              "    <tr>\n",
              "      <th>FamilySize</th>\n",
              "      <td>891.0</td>\n",
              "      <td>1.904602</td>\n",
              "      <td>1.613459</td>\n",
              "      <td>1.00</td>\n",
              "      <td>1.0000</td>\n",
              "      <td>1.0000</td>\n",
              "      <td>2.0</td>\n",
              "      <td>11.0000</td>\n",
              "    </tr>\n",
              "    <tr>\n",
              "      <th>IsAlone</th>\n",
              "      <td>891.0</td>\n",
              "      <td>0.602694</td>\n",
              "      <td>0.489615</td>\n",
              "      <td>0.00</td>\n",
              "      <td>0.0000</td>\n",
              "      <td>1.0000</td>\n",
              "      <td>1.0</td>\n",
              "      <td>1.0000</td>\n",
              "    </tr>\n",
              "  </tbody>\n",
              "</table>\n",
              "</div>"
            ],
            "text/plain": [
              "            count       mean        std   min      25%      50%   75%  \\\n",
              "Survived    891.0   0.383838   0.486592  0.00   0.0000   0.0000   1.0   \n",
              "Pclass      891.0   2.308642   0.836071  1.00   2.0000   3.0000   3.0   \n",
              "Age         714.0  29.699118  14.526497  0.42  20.1250  28.0000  38.0   \n",
              "SibSp       891.0   0.523008   1.102743  0.00   0.0000   0.0000   1.0   \n",
              "Parch       891.0   0.381594   0.806057  0.00   0.0000   0.0000   0.0   \n",
              "Fare        891.0  32.204208  49.693429  0.00   7.9104  14.4542  31.0   \n",
              "FamilySize  891.0   1.904602   1.613459  1.00   1.0000   1.0000   2.0   \n",
              "IsAlone     891.0   0.602694   0.489615  0.00   0.0000   1.0000   1.0   \n",
              "\n",
              "                 max  \n",
              "Survived      1.0000  \n",
              "Pclass        3.0000  \n",
              "Age          80.0000  \n",
              "SibSp         8.0000  \n",
              "Parch         6.0000  \n",
              "Fare        512.3292  \n",
              "FamilySize   11.0000  \n",
              "IsAlone       1.0000  "
            ]
          },
          "execution_count": 15,
          "metadata": {},
          "output_type": "execute_result"
        }
      ]
    },
    {
      "cell_type": "code",
      "metadata": {
        "execution": {
          "iopub.execute_input": "2021-09-15T15:45:38.198544Z",
          "iopub.status.busy": "2021-09-15T15:45:38.197528Z",
          "iopub.status.idle": "2021-09-15T15:45:38.208143Z",
          "shell.execute_reply": "2021-09-15T15:45:38.207132Z",
          "shell.execute_reply.started": "2021-09-15T15:41:24.064493Z"
        },
        "papermill": {
          "duration": 0.045587,
          "end_time": "2021-09-15T15:45:38.208402",
          "exception": false,
          "start_time": "2021-09-15T15:45:38.162815",
          "status": "completed"
        },
        "tags": [],
        "id": "2be1cd77",
        "outputId": "01cae0da-4d5f-4a40-f8bc-2048c8452478"
      },
      "source": [
        "df.isnull().sum()"
      ],
      "id": "2be1cd77",
      "execution_count": null,
      "outputs": [
        {
          "data": {
            "text/plain": [
              "Survived        0\n",
              "Pclass          0\n",
              "Name            0\n",
              "Sex             0\n",
              "Age           177\n",
              "SibSp           0\n",
              "Parch           0\n",
              "Ticket          0\n",
              "Fare            0\n",
              "Cabin         687\n",
              "Embarked        2\n",
              "FamilySize      0\n",
              "IsAlone         0\n",
              "dtype: int64"
            ]
          },
          "execution_count": 16,
          "metadata": {},
          "output_type": "execute_result"
        }
      ]
    },
    {
      "cell_type": "code",
      "metadata": {
        "execution": {
          "iopub.execute_input": "2021-09-15T15:45:38.277036Z",
          "iopub.status.busy": "2021-09-15T15:45:38.276381Z",
          "iopub.status.idle": "2021-09-15T15:45:38.279452Z",
          "shell.execute_reply": "2021-09-15T15:45:38.280017Z",
          "shell.execute_reply.started": "2021-09-15T15:42:00.918841Z"
        },
        "papermill": {
          "duration": 0.040104,
          "end_time": "2021-09-15T15:45:38.280203",
          "exception": false,
          "start_time": "2021-09-15T15:45:38.240099",
          "status": "completed"
        },
        "tags": [],
        "id": "895076e4",
        "outputId": "60f8c5a7-5885-471c-c17a-b2a6f4037c7c"
      },
      "source": [
        "value=df['Age'].median()\n",
        "value\n"
      ],
      "id": "895076e4",
      "execution_count": null,
      "outputs": [
        {
          "data": {
            "text/plain": [
              "28.0"
            ]
          },
          "execution_count": 17,
          "metadata": {},
          "output_type": "execute_result"
        }
      ]
    },
    {
      "cell_type": "code",
      "metadata": {
        "execution": {
          "iopub.execute_input": "2021-09-15T15:45:38.344165Z",
          "iopub.status.busy": "2021-09-15T15:45:38.342041Z",
          "iopub.status.idle": "2021-09-15T15:45:38.349723Z",
          "shell.execute_reply": "2021-09-15T15:45:38.349012Z",
          "shell.execute_reply.started": "2021-09-15T15:42:15.348526Z"
        },
        "papermill": {
          "duration": 0.040752,
          "end_time": "2021-09-15T15:45:38.349874",
          "exception": false,
          "start_time": "2021-09-15T15:45:38.309122",
          "status": "completed"
        },
        "tags": [],
        "id": "b08b9069"
      },
      "source": [
        "df['Age']=df['Age'].fillna(value)"
      ],
      "id": "b08b9069",
      "execution_count": null,
      "outputs": []
    },
    {
      "cell_type": "code",
      "metadata": {
        "execution": {
          "iopub.execute_input": "2021-09-15T15:45:38.413883Z",
          "iopub.status.busy": "2021-09-15T15:45:38.413191Z",
          "iopub.status.idle": "2021-09-15T15:45:38.439430Z",
          "shell.execute_reply": "2021-09-15T15:45:38.438511Z",
          "shell.execute_reply.started": "2021-09-15T15:42:28.598190Z"
        },
        "papermill": {
          "duration": 0.060507,
          "end_time": "2021-09-15T15:45:38.439752",
          "exception": false,
          "start_time": "2021-09-15T15:45:38.379245",
          "status": "completed"
        },
        "tags": [],
        "id": "13623f4c",
        "outputId": "abd94691-9839-4657-e9d5-ed232d4a759d"
      },
      "source": [
        "df['age_class'] = pd.cut(df['Age'], 5)\n",
        "\n",
        "print (df[['age_class', 'Survived']].groupby(['age_class'], as_index=False).mean())"
      ],
      "id": "13623f4c",
      "execution_count": null,
      "outputs": [
        {
          "name": "stdout",
          "output_type": "stream",
          "text": [
            "          age_class  Survived\n",
            "0    (0.34, 16.336]  0.550000\n",
            "1  (16.336, 32.252]  0.344168\n",
            "2  (32.252, 48.168]  0.404255\n",
            "3  (48.168, 64.084]  0.434783\n",
            "4    (64.084, 80.0]  0.090909\n"
          ]
        }
      ]
    },
    {
      "cell_type": "code",
      "metadata": {
        "execution": {
          "iopub.execute_input": "2021-09-15T15:45:38.516756Z",
          "iopub.status.busy": "2021-09-15T15:45:38.515532Z",
          "iopub.status.idle": "2021-09-15T15:45:38.517417Z",
          "shell.execute_reply": "2021-09-15T15:45:38.518038Z",
          "shell.execute_reply.started": "2021-09-15T15:43:11.594022Z"
        },
        "papermill": {
          "duration": 0.047883,
          "end_time": "2021-09-15T15:45:38.518216",
          "exception": false,
          "start_time": "2021-09-15T15:45:38.470333",
          "status": "completed"
        },
        "tags": [],
        "id": "3111038a"
      },
      "source": [
        "df['Age_Group']=0\n",
        "data=[df]\n",
        "for dataset in data:\n",
        "    \n",
        "    dataset.loc[ dataset['Age'] <= 16, 'Age_Group'] = 0\n",
        "    dataset.loc[(dataset['Age'] > 16) & (dataset['Age'] <= 32), 'Age_Group'] = 1\n",
        "    dataset.loc[(dataset['Age'] > 32) & (dataset['Age'] <= 48), 'Age_Group'] = 2\n",
        "    dataset.loc[(dataset['Age'] > 48) & (dataset['Age'] <= 64), 'Age_Group'] = 3\n",
        "    dataset.loc[ dataset['Age'] > 64, 'Age_Group'] = 4"
      ],
      "id": "3111038a",
      "execution_count": null,
      "outputs": []
    },
    {
      "cell_type": "code",
      "metadata": {
        "execution": {
          "iopub.execute_input": "2021-09-15T15:45:38.581166Z",
          "iopub.status.busy": "2021-09-15T15:45:38.580178Z",
          "iopub.status.idle": "2021-09-15T15:45:39.003086Z",
          "shell.execute_reply": "2021-09-15T15:45:39.002094Z",
          "shell.execute_reply.started": "2021-09-15T15:43:14.961788Z"
        },
        "papermill": {
          "duration": 0.455284,
          "end_time": "2021-09-15T15:45:39.003297",
          "exception": false,
          "start_time": "2021-09-15T15:45:38.548013",
          "status": "completed"
        },
        "tags": [],
        "id": "fd8c178c",
        "outputId": "99de7a59-4d30-4ff2-d974-b70bc96a2f16"
      },
      "source": [
        "sns.barplot(x='Age_Group',y='Survived',data=df)"
      ],
      "id": "fd8c178c",
      "execution_count": null,
      "outputs": [
        {
          "data": {
            "text/plain": [
              "<AxesSubplot:xlabel='Age_Group', ylabel='Survived'>"
            ]
          },
          "execution_count": 21,
          "metadata": {},
          "output_type": "execute_result"
        },
        {
          "data": {
            "image/png": "[encoded data removed]",
            "text/plain": [
              "<Figure size 432x288 with 1 Axes>"
            ]
          },
          "metadata": {
            "needs_background": "light"
          },
          "output_type": "display_data"
        }
      ]
    },
    {
      "cell_type": "code",
      "metadata": {
        "execution": {
          "iopub.execute_input": "2021-09-15T15:45:39.075219Z",
          "iopub.status.busy": "2021-09-15T15:45:39.072652Z",
          "iopub.status.idle": "2021-09-15T15:45:39.105498Z",
          "shell.execute_reply": "2021-09-15T15:45:39.104762Z",
          "shell.execute_reply.started": "2021-09-15T15:43:30.792681Z"
        },
        "papermill": {
          "duration": 0.070248,
          "end_time": "2021-09-15T15:45:39.105663",
          "exception": false,
          "start_time": "2021-09-15T15:45:39.035415",
          "status": "completed"
        },
        "tags": [],
        "id": "90a11197",
        "outputId": "d1655a1a-cc11-40da-b406-b758f868ed90"
      },
      "source": [
        "df"
      ],
      "id": "90a11197",
      "execution_count": null,
      "outputs": [
        {
          "data": {
            "text/html": [
              "<div>\n",
              "<style scoped>\n",
              "    .dataframe tbody tr th:only-of-type {\n",
              "        vertical-align: middle;\n",
              "    }\n",
              "\n",
              "    .dataframe tbody tr th {\n",
              "        vertical-align: top;\n",
              "    }\n",
              "\n",
              "    .dataframe thead th {\n",
              "        text-align: right;\n",
              "    }\n",
              "</style>\n",
              "<table border=\"1\" class=\"dataframe\">\n",
              "  <thead>\n",
              "    <tr style=\"text-align: right;\">\n",
              "      <th></th>\n",
              "      <th>Survived</th>\n",
              "      <th>Pclass</th>\n",
              "      <th>Name</th>\n",
              "      <th>Sex</th>\n",
              "      <th>Age</th>\n",
              "      <th>SibSp</th>\n",
              "      <th>Parch</th>\n",
              "      <th>Ticket</th>\n",
              "      <th>Fare</th>\n",
              "      <th>Cabin</th>\n",
              "      <th>Embarked</th>\n",
              "      <th>FamilySize</th>\n",
              "      <th>IsAlone</th>\n",
              "      <th>age_class</th>\n",
              "      <th>Age_Group</th>\n",
              "    </tr>\n",
              "  </thead>\n",
              "  <tbody>\n",
              "    <tr>\n",
              "      <th>0</th>\n",
              "      <td>0</td>\n",
              "      <td>3</td>\n",
              "      <td>Braund, Mr. Owen Harris</td>\n",
              "      <td>male</td>\n",
              "      <td>22.0</td>\n",
              "      <td>1</td>\n",
              "      <td>0</td>\n",
              "      <td>A/5 21171</td>\n",
              "      <td>7.2500</td>\n",
              "      <td>NaN</td>\n",
              "      <td>S</td>\n",
              "      <td>2</td>\n",
              "      <td>0</td>\n",
              "      <td>(16.336, 32.252]</td>\n",
              "      <td>1</td>\n",
              "    </tr>\n",
              "    <tr>\n",
              "      <th>1</th>\n",
              "      <td>1</td>\n",
              "      <td>1</td>\n",
              "      <td>Cumings, Mrs. John Bradley (Florence Briggs Th...</td>\n",
              "      <td>female</td>\n",
              "      <td>38.0</td>\n",
              "      <td>1</td>\n",
              "      <td>0</td>\n",
              "      <td>PC 17599</td>\n",
              "      <td>71.2833</td>\n",
              "      <td>C85</td>\n",
              "      <td>C</td>\n",
              "      <td>2</td>\n",
              "      <td>0</td>\n",
              "      <td>(32.252, 48.168]</td>\n",
              "      <td>2</td>\n",
              "    </tr>\n",
              "    <tr>\n",
              "      <th>2</th>\n",
              "      <td>1</td>\n",
              "      <td>3</td>\n",
              "      <td>Heikkinen, Miss. Laina</td>\n",
              "      <td>female</td>\n",
              "      <td>26.0</td>\n",
              "      <td>0</td>\n",
              "      <td>0</td>\n",
              "      <td>STON/O2. 3101282</td>\n",
              "      <td>7.9250</td>\n",
              "      <td>NaN</td>\n",
              "      <td>S</td>\n",
              "      <td>1</td>\n",
              "      <td>1</td>\n",
              "      <td>(16.336, 32.252]</td>\n",
              "      <td>1</td>\n",
              "    </tr>\n",
              "    <tr>\n",
              "      <th>3</th>\n",
              "      <td>1</td>\n",
              "      <td>1</td>\n",
              "      <td>Futrelle, Mrs. Jacques Heath (Lily May Peel)</td>\n",
              "      <td>female</td>\n",
              "      <td>35.0</td>\n",
              "      <td>1</td>\n",
              "      <td>0</td>\n",
              "      <td>113803</td>\n",
              "      <td>53.1000</td>\n",
              "      <td>C123</td>\n",
              "      <td>S</td>\n",
              "      <td>2</td>\n",
              "      <td>0</td>\n",
              "      <td>(32.252, 48.168]</td>\n",
              "      <td>2</td>\n",
              "    </tr>\n",
              "    <tr>\n",
              "      <th>4</th>\n",
              "      <td>0</td>\n",
              "      <td>3</td>\n",
              "      <td>Allen, Mr. William Henry</td>\n",
              "      <td>male</td>\n",
              "      <td>35.0</td>\n",
              "      <td>0</td>\n",
              "      <td>0</td>\n",
              "      <td>373450</td>\n",
              "      <td>8.0500</td>\n",
              "      <td>NaN</td>\n",
              "      <td>S</td>\n",
              "      <td>1</td>\n",
              "      <td>1</td>\n",
              "      <td>(32.252, 48.168]</td>\n",
              "      <td>2</td>\n",
              "    </tr>\n",
              "    <tr>\n",
              "      <th>...</th>\n",
              "      <td>...</td>\n",
              "      <td>...</td>\n",
              "      <td>...</td>\n",
              "      <td>...</td>\n",
              "      <td>...</td>\n",
              "      <td>...</td>\n",
              "      <td>...</td>\n",
              "      <td>...</td>\n",
              "      <td>...</td>\n",
              "      <td>...</td>\n",
              "      <td>...</td>\n",
              "      <td>...</td>\n",
              "      <td>...</td>\n",
              "      <td>...</td>\n",
              "      <td>...</td>\n",
              "    </tr>\n",
              "    <tr>\n",
              "      <th>886</th>\n",
              "      <td>0</td>\n",
              "      <td>2</td>\n",
              "      <td>Montvila, Rev. Juozas</td>\n",
              "      <td>male</td>\n",
              "      <td>27.0</td>\n",
              "      <td>0</td>\n",
              "      <td>0</td>\n",
              "      <td>211536</td>\n",
              "      <td>13.0000</td>\n",
              "      <td>NaN</td>\n",
              "      <td>S</td>\n",
              "      <td>1</td>\n",
              "      <td>1</td>\n",
              "      <td>(16.336, 32.252]</td>\n",
              "      <td>1</td>\n",
              "    </tr>\n",
              "    <tr>\n",
              "      <th>887</th>\n",
              "      <td>1</td>\n",
              "      <td>1</td>\n",
              "      <td>Graham, Miss. Margaret Edith</td>\n",
              "      <td>female</td>\n",
              "      <td>19.0</td>\n",
              "      <td>0</td>\n",
              "      <td>0</td>\n",
              "      <td>112053</td>\n",
              "      <td>30.0000</td>\n",
              "      <td>B42</td>\n",
              "      <td>S</td>\n",
              "      <td>1</td>\n",
              "      <td>1</td>\n",
              "      <td>(16.336, 32.252]</td>\n",
              "      <td>1</td>\n",
              "    </tr>\n",
              "    <tr>\n",
              "      <th>888</th>\n",
              "      <td>0</td>\n",
              "      <td>3</td>\n",
              "      <td>Johnston, Miss. Catherine Helen \"Carrie\"</td>\n",
              "      <td>female</td>\n",
              "      <td>28.0</td>\n",
              "      <td>1</td>\n",
              "      <td>2</td>\n",
              "      <td>W./C. 6607</td>\n",
              "      <td>23.4500</td>\n",
              "      <td>NaN</td>\n",
              "      <td>S</td>\n",
              "      <td>4</td>\n",
              "      <td>0</td>\n",
              "      <td>(16.336, 32.252]</td>\n",
              "      <td>1</td>\n",
              "    </tr>\n",
              "    <tr>\n",
              "      <th>889</th>\n",
              "      <td>1</td>\n",
              "      <td>1</td>\n",
              "      <td>Behr, Mr. Karl Howell</td>\n",
              "      <td>male</td>\n",
              "      <td>26.0</td>\n",
              "      <td>0</td>\n",
              "      <td>0</td>\n",
              "      <td>111369</td>\n",
              "      <td>30.0000</td>\n",
              "      <td>C148</td>\n",
              "      <td>C</td>\n",
              "      <td>1</td>\n",
              "      <td>1</td>\n",
              "      <td>(16.336, 32.252]</td>\n",
              "      <td>1</td>\n",
              "    </tr>\n",
              "    <tr>\n",
              "      <th>890</th>\n",
              "      <td>0</td>\n",
              "      <td>3</td>\n",
              "      <td>Dooley, Mr. Patrick</td>\n",
              "      <td>male</td>\n",
              "      <td>32.0</td>\n",
              "      <td>0</td>\n",
              "      <td>0</td>\n",
              "      <td>370376</td>\n",
              "      <td>7.7500</td>\n",
              "      <td>NaN</td>\n",
              "      <td>Q</td>\n",
              "      <td>1</td>\n",
              "      <td>1</td>\n",
              "      <td>(16.336, 32.252]</td>\n",
              "      <td>1</td>\n",
              "    </tr>\n",
              "  </tbody>\n",
              "</table>\n",
              "<p>891 rows × 15 columns</p>\n",
              "</div>"
            ],
            "text/plain": [
              "     Survived  Pclass                                               Name  \\\n",
              "0           0       3                            Braund, Mr. Owen Harris   \n",
              "1           1       1  Cumings, Mrs. John Bradley (Florence Briggs Th...   \n",
              "2           1       3                             Heikkinen, Miss. Laina   \n",
              "3           1       1       Futrelle, Mrs. Jacques Heath (Lily May Peel)   \n",
              "4           0       3                           Allen, Mr. William Henry   \n",
              "..        ...     ...                                                ...   \n",
              "886         0       2                              Montvila, Rev. Juozas   \n",
              "887         1       1                       Graham, Miss. Margaret Edith   \n",
              "888         0       3           Johnston, Miss. Catherine Helen \"Carrie\"   \n",
              "889         1       1                              Behr, Mr. Karl Howell   \n",
              "890         0       3                                Dooley, Mr. Patrick   \n",
              "\n",
              "        Sex   Age  SibSp  Parch            Ticket     Fare Cabin Embarked  \\\n",
              "0      male  22.0      1      0         A/5 21171   7.2500   NaN        S   \n",
              "1    female  38.0      1      0          PC 17599  71.2833   C85        C   \n",
              "2    female  26.0      0      0  STON/O2. 3101282   7.9250   NaN        S   \n",
              "3    female  35.0      1      0            113803  53.1000  C123        S   \n",
              "4      male  35.0      0      0            373450   8.0500   NaN        S   \n",
              "..      ...   ...    ...    ...               ...      ...   ...      ...   \n",
              "886    male  27.0      0      0            211536  13.0000   NaN        S   \n",
              "887  female  19.0      0      0            112053  30.0000   B42        S   \n",
              "888  female  28.0      1      2        W./C. 6607  23.4500   NaN        S   \n",
              "889    male  26.0      0      0            111369  30.0000  C148        C   \n",
              "890    male  32.0      0      0            370376   7.7500   NaN        Q   \n",
              "\n",
              "     FamilySize  IsAlone         age_class  Age_Group  \n",
              "0             2        0  (16.336, 32.252]          1  \n",
              "1             2        0  (32.252, 48.168]          2  \n",
              "2             1        1  (16.336, 32.252]          1  \n",
              "3             2        0  (32.252, 48.168]          2  \n",
              "4             1        1  (32.252, 48.168]          2  \n",
              "..          ...      ...               ...        ...  \n",
              "886           1        1  (16.336, 32.252]          1  \n",
              "887           1        1  (16.336, 32.252]          1  \n",
              "888           4        0  (16.336, 32.252]          1  \n",
              "889           1        1  (16.336, 32.252]          1  \n",
              "890           1        1  (16.336, 32.252]          1  \n",
              "\n",
              "[891 rows x 15 columns]"
            ]
          },
          "execution_count": 22,
          "metadata": {},
          "output_type": "execute_result"
        }
      ]
    },
    {
      "cell_type": "code",
      "metadata": {
        "execution": {
          "iopub.execute_input": "2021-09-15T15:45:39.180863Z",
          "iopub.status.busy": "2021-09-15T15:45:39.180136Z",
          "iopub.status.idle": "2021-09-15T15:45:39.183497Z",
          "shell.execute_reply": "2021-09-15T15:45:39.182974Z",
          "shell.execute_reply.started": "2021-09-15T15:43:50.132191Z"
        },
        "papermill": {
          "duration": 0.046059,
          "end_time": "2021-09-15T15:45:39.183653",
          "exception": false,
          "start_time": "2021-09-15T15:45:39.137594",
          "status": "completed"
        },
        "tags": [],
        "id": "bfe6997c",
        "outputId": "14778465-e777-48e9-f1ae-5d1b41bf513e"
      },
      "source": [
        "df.isnull().sum()"
      ],
      "id": "bfe6997c",
      "execution_count": null,
      "outputs": [
        {
          "data": {
            "text/plain": [
              "Survived        0\n",
              "Pclass          0\n",
              "Name            0\n",
              "Sex             0\n",
              "Age             0\n",
              "SibSp           0\n",
              "Parch           0\n",
              "Ticket          0\n",
              "Fare            0\n",
              "Cabin         687\n",
              "Embarked        2\n",
              "FamilySize      0\n",
              "IsAlone         0\n",
              "age_class       0\n",
              "Age_Group       0\n",
              "dtype: int64"
            ]
          },
          "execution_count": 23,
          "metadata": {},
          "output_type": "execute_result"
        }
      ]
    }
  ]
}